{
 "cells": [
  {
   "cell_type": "code",
   "execution_count": 64,
   "metadata": {
    "collapsed": true
   },
   "outputs": [],
   "source": [
    "import json, requests"
   ]
  },
  {
   "cell_type": "code",
   "execution_count": 65,
   "metadata": {
    "collapsed": true
   },
   "outputs": [],
   "source": [
    "baseurl = \"https://www.facebase.org/ermrest/catalog/1/entity/isa:\"\n",
    "\n",
    "tablenames = {\n",
    "    'dataset': 'id',\n",
    "    'dataset_phenotype': 'dataset',\n",
    "    'dataset_experiment_type': 'dataset_id',\n",
    "    'dataset_data_type': 'dataset_id',\n",
    "    'dataset_organism': 'dataset_id',\n",
    "    'dataset_zebrafish_age_stage': 'dataset_id',\n",
    "    'dataset_zebrafish_anatomic_source': 'dataset_id',\n",
    "    'dataset_zebrafish_genotype': 'dataset_id',\n",
    "    'dataset_mouse_age_stage': 'dataset_id',\n",
    "    'dataset_mouse_anatomic_source': 'dataset_id',\n",
    "    'dataset_mouse_genetic_background': 'dataset_id',\n",
    "    'dataset_mouse_gene': 'dataset_id',\n",
    "    'dataset_mouse_mutation': 'dataset_id',\n",
    "    'dataset_human_anatomic_source': 'dataset_id'\n",
    "}"
   ]
  },
  {
   "cell_type": "code",
   "execution_count": 66,
   "metadata": {
    "collapsed": true
   },
   "outputs": [],
   "source": [
    "tables = {}\n",
    "\n",
    "for name in tablenames:\n",
    "    resp = requests.get(url=baseurl + name, params={})\n",
    "    tables[name] = resp.json()"
   ]
  },
  {
   "cell_type": "code",
   "execution_count": 67,
   "metadata": {
    "collapsed": true
   },
   "outputs": [],
   "source": [
    "keyword_columns = {\n",
    "    'dataset_phenotype': ('dataset', 'phenotype'),\n",
    "    'dataset_experiment_type': ('dataset_id', 'experiment_type'),\n",
    "    'dataset_data_type': ('dataset_id', 'data_type'),\n",
    "    'dataset_organism': ('dataset_id', 'organism'),\n",
    "    'dataset_zebrafish_anatomic_source': ('dataset_id', 'zebrafish_anatomic_source'),\n",
    "    'dataset_zebrafish_genotype': ('dataset_id', 'zebrafish_genotype'),\n",
    "    'dataset_mouse_age_stage': ('dataset_id', 'mouse_age_stage'),\n",
    "    'dataset_mouse_anatomic_source': ('dataset_id', 'mouse_anatomic_source'),\n",
    "    'dataset_mouse_genetic_background': ('dataset_id', 'mouse_genetic_background'),\n",
    "    'dataset_mouse_gene': ('dataset_id', 'mouse_gene'),\n",
    "    'dataset_human_anatomic_source': ('dataset_id', 'human_anatomic_source')\n",
    "}"
   ]
  },
  {
   "cell_type": "code",
   "execution_count": 68,
   "metadata": {
    "collapsed": true
   },
   "outputs": [],
   "source": [
    "dataset_keywords = {}\n",
    "\n",
    "for table in keyword_columns:\n",
    "    id_key = keyword_columns[table][0]\n",
    "    kw_key = keyword_columns[table][1]\n",
    "    for mapping in tables[table]:\n",
    "        dataset_id = mapping[id_key]\n",
    "        if dataset_id not in dataset_keywords.keys():\n",
    "            dataset_keywords[dataset_id] = set()\n",
    "        dataset_keywords[dataset_id].add(mapping[kw_key])"
   ]
  },
  {
   "cell_type": "code",
   "execution_count": 69,
   "metadata": {
    "collapsed": true
   },
   "outputs": [],
   "source": [
    "dataset_keywords_lists = dataset_keywords.copy()\n",
    "for dataset in dataset_keywords_lists:\n",
    "    dataset_keywords_lists[dataset] = list(dataset_keywords_lists[dataset])\n",
    "\n",
    "with open('dataset_keywords.json', 'w') as out:\n",
    "    out.write(json.dumps(dataset_keywords_lists))"
   ]
  }
 ],
 "metadata": {
  "kernelspec": {
   "display_name": "Python 3",
   "language": "python",
   "name": "python3"
  },
  "language_info": {
   "codemirror_mode": {
    "name": "ipython",
    "version": 3
   },
   "file_extension": ".py",
   "mimetype": "text/x-python",
   "name": "python",
   "nbconvert_exporter": "python",
   "pygments_lexer": "ipython3",
   "version": "3.5.1"
  }
 },
 "nbformat": 4,
 "nbformat_minor": 2
}
